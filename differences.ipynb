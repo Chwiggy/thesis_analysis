{
 "cells": [
  {
   "cell_type": "code",
   "execution_count": null,
   "metadata": {},
   "outputs": [
    {
     "ename": "",
     "evalue": "",
     "output_type": "error",
     "traceback": [
      "\u001b[1;31mFailed to start the Kernel. \n",
      "\u001b[1;31mThe 'python27undefinedjvsc74a57bd099a3fa3d302f7f84652d4c67c0393a8c6862c9c43b1a02a4447606ce0ba46739' kernel is not available. Please pick another suitable kernel instead, or install that kernel. \n",
      "\u001b[1;31mView Jupyter <a href='command:jupyter.viewOutput'>log</a> for further details."
     ]
    }
   ],
   "source": [
    "import geopandas as gp"
   ]
  },
  {
   "cell_type": "code",
   "execution_count": null,
   "metadata": {},
   "outputs": [
    {
     "ename": "",
     "evalue": "",
     "output_type": "error",
     "traceback": [
      "\u001b[1;31mFailed to start the Kernel. \n",
      "\u001b[1;31mThe 'python27undefinedjvsc74a57bd099a3fa3d302f7f84652d4c67c0393a8c6862c9c43b1a02a4447606ce0ba46739' kernel is not available. Please pick another suitable kernel instead, or install that kernel. \n",
      "\u001b[1;31mView Jupyter <a href='command:jupyter.viewOutput'>log</a> for further details."
     ]
    }
   ],
   "source": [
    "hd_difference = gp.read_file(\"inputs/Heidelberg_difference.json\")\n",
    "hd_difference.head()"
   ]
  },
  {
   "cell_type": "code",
   "execution_count": null,
   "metadata": {},
   "outputs": [
    {
     "ename": "",
     "evalue": "",
     "output_type": "error",
     "traceback": [
      "\u001b[1;31mFailed to start the Kernel. \n",
      "\u001b[1;31mThe 'python27undefinedjvsc74a57bd099a3fa3d302f7f84652d4c67c0393a8c6862c9c43b1a02a4447606ce0ba46739' kernel is not available. Please pick another suitable kernel instead, or install that kernel. \n",
      "\u001b[1;31mView Jupyter <a href='command:jupyter.viewOutput'>log</a> for further details."
     ]
    }
   ],
   "source": [
    "hd_difference.explore(column='difference_self17', cmap='magma_r')"
   ]
  },
  {
   "cell_type": "code",
   "execution_count": null,
   "metadata": {},
   "outputs": [
    {
     "ename": "",
     "evalue": "",
     "output_type": "error",
     "traceback": [
      "\u001b[1;31mFailed to start the Kernel. \n",
      "\u001b[1;31mThe 'python27undefinedjvsc74a57bd099a3fa3d302f7f84652d4c67c0393a8c6862c9c43b1a02a4447606ce0ba46739' kernel is not available. Please pick another suitable kernel instead, or install that kernel. \n",
      "\u001b[1;31mView Jupyter <a href='command:jupyter.viewOutput'>log</a> for further details."
     ]
    }
   ],
   "source": [
    "pivot = hd_difference.loc[:, hd_difference.columns.str.startswith(\"difference\")]\n",
    "pivot[\"id\"] = hd_difference[\"id\"]\n",
    "plots = pivot.set_index(\"id\").transpose().reset_index()\n",
    "plots.plot(legend=False, xlabel=\"Time of Day [h]\", ylabel=\"Difference in Travel Time [min]\")"
   ]
  },
  {
   "cell_type": "markdown",
   "metadata": {},
   "source": [
    "TODO: box plot für planning indicator, per district of heidelberg"
   ]
  },
  {
   "cell_type": "code",
   "execution_count": null,
   "metadata": {},
   "outputs": [
    {
     "ename": "",
     "evalue": "",
     "output_type": "error",
     "traceback": [
      "\u001b[1;31mFailed to start the Kernel. \n",
      "\u001b[1;31mThe 'python27undefinedjvsc74a57bd099a3fa3d302f7f84652d4c67c0393a8c6862c9c43b1a02a4447606ce0ba46739' kernel is not available. Please pick another suitable kernel instead, or install that kernel. \n",
      "\u001b[1;31mView Jupyter <a href='command:jupyter.viewOutput'>log</a> for further details."
     ]
    }
   ],
   "source": []
  }
 ],
 "metadata": {
  "kernelspec": {
   "display_name": "thesis-new",
   "language": "python",
   "name": "python3"
  },
  "language_info": {
   "codemirror_mode": {
    "name": "ipython",
    "version": 3
   },
   "file_extension": ".py",
   "mimetype": "text/x-python",
   "name": "python",
   "nbconvert_exporter": "python",
   "pygments_lexer": "ipython3",
   "version": "3.11.8"
  }
 },
 "nbformat": 4,
 "nbformat_minor": 2
}
